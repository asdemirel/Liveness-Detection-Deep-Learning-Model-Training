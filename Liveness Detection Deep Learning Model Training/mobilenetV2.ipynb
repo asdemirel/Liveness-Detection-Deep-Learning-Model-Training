{
 "cells": [
  {
   "cell_type": "code",
   "execution_count": 18,
   "metadata": {},
   "outputs": [],
   "source": [
    "import tensorflow as tf"
   ]
  },
  {
   "cell_type": "code",
   "execution_count": 19,
   "metadata": {},
   "outputs": [],
   "source": [
    "\n",
    "base_dir = 'dataset/train'\n",
    "\n",
    "IMAGE_SIZE = 224 \n",
    "BATCH_SIZE = 32 \n",
    "epochs = 50\n",
    "class_number = 3\n",
    "INIT_LR = 1e-6"
   ]
  },
  {
   "cell_type": "code",
   "execution_count": null,
   "metadata": {},
   "outputs": [],
   "source": [
    "datagen = tf.keras.preprocessing.image.ImageDataGenerator( \n",
    "    rescale = 1./255,\n",
    "    validation_split=0.2,   \n",
    ")\n",
    "\n",
    "train_generator = datagen.flow_from_directory( \n",
    "    base_dir, \n",
    "    target_size=(IMAGE_SIZE, IMAGE_SIZE),  \n",
    "    batch_size = BATCH_SIZE, \n",
    "    subset='training' \n",
    ")\n",
    "\n",
    "val_generator = datagen.flow_from_directory(  \n",
    "    base_dir, \n",
    "    target_size=(IMAGE_SIZE, IMAGE_SIZE),\n",
    "    batch_size=BATCH_SIZE,\n",
    "    subset='validation'\n",
    ")\n",
    "\n",
    "print(train_generator.class_indices) \n",
    "labels = '\\n'.join(sorted(train_generator.class_indices.keys())) \n",
    "\n",
    "IMG_SHAPE = (IMAGE_SIZE, IMAGE_SIZE, 3) \n",
    "base_model = tf.keras.applications.MobileNetV2( \n",
    "    input_shape=IMG_SHAPE,\n",
    "    include_top=False, \n",
    "    weights='imagenet',   \n",
    ")\n",
    "\n",
    "base_model.trainable=False \n",
    "model = tf.keras.Sequential([ \n",
    "  base_model,\n",
    "  tf.keras.layers.Conv2D(32,3, activation = 'relu'), \n",
    "  tf.keras.layers.Dropout(0.2), \n",
    "  tf.keras.layers.GlobalAveragePooling2D(), \n",
    "  tf.keras.layers.Dense(class_number,activation='softmax')\n",
    "])\n",
    "\n",
    "model.compile(\n",
    "    optimizer=tf.keras.optimizers.Adam(lr=INIT_LR), \n",
    "    loss='categorical_crossentropy', \n",
    "    metrics=['accuracy'],\n",
    ")\n"
   ]
  },
  {
   "cell_type": "code",
   "execution_count": null,
   "metadata": {},
   "outputs": [],
   "source": [
    "my_callbacks = [\n",
    "    tf.keras.callbacks.EarlyStopping(monitor='val_loss' ,patience=2, mode='min',verbose=1),\n",
    "    tf.keras.callbacks.ModelCheckpoint(filepath='models/2haziran_Mobilenetv2_model.{epoch:02d}-{val_loss:.5f}.h5',monitor='val_loss',mode='min',save_best_only=True),\n",
    "]\n",
    "\n",
    "history = model.fit(\n",
    "    train_generator, \n",
    "    epochs = epochs, \n",
    "    callbacks=[my_callbacks],\n",
    "    validation_data=val_generator,\n",
    ")\n",
    "\n",
    "model.summary()\n"
   ]
  },
  {
   "cell_type": "code",
   "execution_count": null,
   "metadata": {},
   "outputs": [],
   "source": [
    "saved_model_dir = ''\n",
    "tf.saved_model.save(model, saved_model_dir) \n",
    "\n",
    "converter = tf.lite.TFLiteConverter.from_saved_model(saved_model_dir) \n",
    "tflite_model = converter.convert() "
   ]
  },
  {
   "cell_type": "code",
   "execution_count": 23,
   "metadata": {},
   "outputs": [],
   "source": [
    "with open('2haziran_mobilenetv2.tflite', 'wb') as f: \n",
    "  f.write(tflite_model)"
   ]
  },
  {
   "cell_type": "code",
   "execution_count": 24,
   "metadata": {},
   "outputs": [],
   "source": [
    "import matplotlib\n",
    "matplotlib.use(\"Agg\")\n",
    "import matplotlib.pyplot as plt\n",
    "import numpy as np\n",
    "plt.style.use(\"ggplot\")\n",
    "plt.figure()\n",
    "plt.plot(np.arange(0, epochs), history.history[\"loss\"], label=\"train_loss\")\n",
    "plt.plot(np.arange(0, epochs), history.history[\"val_loss\"], label=\"val_loss\")\n",
    "plt.plot(np.arange(0, epochs), history.history[\"accuracy\"], label=\"train_acc\")\n",
    "plt.plot(np.arange(0, epochs), history.history[\"val_accuracy\"], label=\"val_acc\")\n",
    "plt.title(\"Training Loss and Accuracy on Dataset\")\n",
    "plt.xlabel(\"Epoch #\")\n",
    "plt.ylabel(\"Loss/Accuracy\")\n",
    "plt.legend(loc=\"lower left\")\n",
    "plt.savefig(\"1haziran_mobilenetv2\")"
   ]
  }
 ],
 "metadata": {
  "kernelspec": {
   "display_name": "Python 3.7.9 64-bit",
   "name": "python379jvsc74a57bd032340197c2402583a88d3408801c90cfe7011c16c5269ac6676f2daf1be80ce6"
  },
  "language_info": {
   "codemirror_mode": {
    "name": "ipython",
    "version": 3
   },
   "file_extension": ".py",
   "mimetype": "text/x-python",
   "name": "python",
   "nbconvert_exporter": "python",
   "pygments_lexer": "ipython3",
   "version": "3.7.9"
  },
  "metadata": {
   "interpreter": {
    "hash": "32340197c2402583a88d3408801c90cfe7011c16c5269ac6676f2daf1be80ce6"
   }
  },
  "orig_nbformat": 2
 },
 "nbformat": 4,
 "nbformat_minor": 2
}
